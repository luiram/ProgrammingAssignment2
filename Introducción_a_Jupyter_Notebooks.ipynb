{
  "nbformat": 4,
  "nbformat_minor": 0,
  "metadata": {
    "colab": {
      "name": "Introducción a Jupyter Notebooks.ipynb",
      "provenance": [],
      "collapsed_sections": [],
      "toc_visible": true,
      "include_colab_link": true
    },
    "kernelspec": {
      "display_name": "Python 3",
      "language": "python",
      "name": "python3"
    },
    "language_info": {
      "codemirror_mode": {
        "name": "ipython",
        "version": 3
      },
      "file_extension": ".py",
      "mimetype": "text/x-python",
      "name": "python",
      "nbconvert_exporter": "python",
      "pygments_lexer": "ipython3",
      "version": "3.7.6"
    }
  },
  "cells": [
    {
      "cell_type": "markdown",
      "metadata": {
        "id": "view-in-github",
        "colab_type": "text"
      },
      "source": [
        "<a href=\"https://colab.research.google.com/github/luiram/ProgrammingAssignment2/blob/master/Introducci%C3%B3n_a_Jupyter_Notebooks.ipynb\" target=\"_parent\"><img src=\"https://colab.research.google.com/assets/colab-badge.svg\" alt=\"Open In Colab\"/></a>"
      ]
    },
    {
      "cell_type": "markdown",
      "metadata": {
        "id": "5iHVsxGCtyma",
        "colab_type": "text"
      },
      "source": [
        "<img src = \"https://drive.google.com/uc?export=view&id=1zD1_7Y4Ejud8OsuQb49rHGfl9qhihAh5\" alt = \"Encabezado MLDS\" width = \"100%\">  </img>"
      ]
    },
    {
      "cell_type": "markdown",
      "metadata": {
        "colab_type": "text",
        "id": "FZBr4_ny6UCr"
      },
      "source": [
        "# **Introducción a *Jupyter Notebooks***"
      ]
    },
    {
      "cell_type": "markdown",
      "metadata": {
        "id": "hmnVoRtpsKp4",
        "colab_type": "text"
      },
      "source": [
        "\n",
        "<img src = \"https://jupyter.org/assets/nav_logo.svg\" alt = \"Encabezado MLDS\" width = \"65%\">  </img>"
      ]
    },
    {
      "cell_type": "markdown",
      "metadata": {
        "colab_type": "text",
        "id": "45mGoUjaZRWP"
      },
      "source": [
        "Los *notebooks* de [Jupyter](https://jupyter.org/) son documentos con un entorno computacional interactivo integrado, que permiten organizar y ejecutar código fuente de lenguajes de programación como *Python* o *R*. En otras palabras, podemos pensar en un *notebook* como una \"página web enriquecida\" donde vamos a poder tomar apuntes en forma de texto, títulos, imágenes, enlaces web, y lo más importante, vamos a poder ejecutar código fuente de forma interactiva (*Python* en nuestro caso). \n",
        "\n",
        "Esto es posible con el uso de *kernels*, software que provee soporte a un lenguaje de programación específico. En el transcurso del programa de formación virtual en *Machine Learning and Data Science* de la Universidad NAcional de Colombia se trabajará con el kernel de [IPython](https://ipython.org/) para [Python 3](https://www.python.org/)."
      ]
    },
    {
      "cell_type": "markdown",
      "metadata": {
        "id": "mwV7hl0-VVvZ",
        "colab_type": "text"
      },
      "source": [
        "Estos documentos funcionan con la ejecución de aplicaciones Web, que controlan y permiten la interacción con el sistema operativo. Para ejecutar estas aplicaciones se consideran dos escenarios: \n",
        "1. Con software en la computador local.\n",
        "2. En la nube mediante plataformas especializadas.\n",
        "\n",
        "En el primer caso, para trabajar en local con Notebooks de *Jupyter* se recomienda usar el software [Anaconda](https://www.anaconda.com/products/individual), un entorno especializado para ciencia de datos que trae por defecto la posibilidad de trabajar con Notebooks de Jupyter con Python. Además, se pueden configurar entornos de desarrollo (como [Visual Studio Code](https://code.visualstudio.com/) o [PyCharm](https://www.jetbrains.com/pycharm/)) para el desarrollo de notebooks de Jupyter con añadidos como la compleción de código o herramientas para depurar y ejecutar código. Estos permiten la interacción con *Anaconda*.\n",
        "\n",
        "En el segundo caso, para trabajar en la nube, se recomienda trabajar con [*Google Colaboratory*](https://colab.research.google.com/notebooks/intro.ipynb) o simplemente *Colab*, un entorno gratuito de *notebooks* basados en *Jupyter* que no requiere configuración y se ejecuta completamente en la nube. Adicionalmente, es posible acceder a entornos computacionales avanzados con hardware especializado GPU o TPU, gracias a la infraestructura computacional que ofrece *Google Cloud Platform*. \n",
        "\n",
        "**La opción recomendada desde el programa de formación en MLDS es *Google Colab***, y el desarrollo de este tutorial se realiza tomando esta plataforma como referencia."
      ]
    },
    {
      "cell_type": "markdown",
      "metadata": {
        "colab_type": "text",
        "id": "xTwj-uWlhHN9"
      },
      "source": [
        "## **1. Celdas de Texto**\n",
        "\n",
        "El primer tipo de celda es uno con el que ya ha interactuado en el transcurso de este material. Se trata de las **celdas de texto**. \n",
        "\n",
        "Las celdas de texto usan sintaxis propia de un lenguaje de marcado. Esto quiere decir que podemos combinar texto con código de lenguajes como HTML o LaTex. El lenguaje utilizado se llama *Markdown*, el cual tiene ligeras diferencias entre sus versiones para *Jupyter* y *Colab*. Se trata de una especificación ligera para la escritura de contenido HTML. Si quiere conocer más acerca de este lenguaje, lo invitamos a consultar su documentación y guía de inicio de [markdown](/notebooks/markdown_guide.ipynb)."
      ]
    },
    {
      "cell_type": "markdown",
      "metadata": {
        "id": "Gd_M9svrZFde",
        "colab_type": "text"
      },
      "source": [
        "A continuación se presentan algunos ejemplos de celdas de text comunes. Puede dar **doble-click** en cada celda para conocer y editar su contenido. Luego, hacer **clic** por fuera de la celda para ver su resultado."
      ]
    },
    {
      "cell_type": "markdown",
      "metadata": {
        "id": "88t7CrFzt7gI",
        "colab_type": "text"
      },
      "source": [
        "Ejemplos de títulos con **Markdown** - Haga **doble clic** aquí para ver el código fuente de esta celda:\n",
        "# Título nivel 1\n",
        "## Los\n",
        "### numerales\n",
        "#### indican\n",
        "##### el tamaño (nivel)\n",
        "###### del título."
      ]
    },
    {
      "cell_type": "markdown",
      "metadata": {
        "id": "e_s-y0L4Z9j8",
        "colab_type": "text"
      },
      "source": [
        "\n",
        "Se pueden usar separadores horizontales así:\n",
        "\n",
        "--- \n",
        "\n",
        "o así:\n",
        "\n",
        "***\n",
        "\n",
        "Este es texto normal.\n",
        "\n",
        "*Se pueden hacer cursivas* **y negrillas.**\n",
        "_También se puede_ con __barra al piso.__\n",
        "y __*combinados*__ ***de varias*** *__maneras__*"
      ]
    },
    {
      "cell_type": "markdown",
      "metadata": {
        "id": "Xl0HTXkoaG10",
        "colab_type": "text"
      },
      "source": [
        "Se puede usar texto con estilo de código en una línea: `!python --version`\n",
        "\n",
        "O como un bloque:\n",
        "``` \n",
        "def hello_world():\n",
        "  print('Hello World!')\n",
        "```\n",
        "\n",
        "\n",
        "Incluso en negrilla: **`print('Hello World!)`**\n",
        "\n",
        "> Se puede definir bloques de texto en formato de cita.\n",
        "\n",
        "*  Se pueden\n",
        "*  definir\n",
        "*  listas sin orden\n",
        "\n",
        "1. Y también\n",
        "2. listas\n",
        "3. ordenadas\n",
        "  * Incluso\n",
        "  * anidadas\n",
        "  * usando la indentación.\n",
        "\n",
        "  También se pueden agregar enlaces a [sitios web](https://www.python.org/)\n",
        "\n",
        "  o agregar imágenes\n",
        "  \n",
        "![Python logo](https://www.python.org/static/community_logos/python-logo-master-v3-TM.png)\n",
        "\n"
      ]
    },
    {
      "cell_type": "markdown",
      "metadata": {
        "id": "SKU9whoRY7DA",
        "colab_type": "text"
      },
      "source": [
        "LaTex es el lenguaje más conocido para escribir expresiones matemáticas [LaTeX](http://www.latex-project.org/). Para incluir fórmulas u otras expresiones matemáticas se escribe una expresión en lenguaje LaTex entre un par de signos  **\\$** . \n",
        "\n",
        "Por ejemplo `$\\sqrt{3x-1}+(1+x)^2$` se visualiza así:\n",
        "\n",
        "$\\sqrt{3x-1}+(1+x)^2.$"
      ]
    },
    {
      "cell_type": "markdown",
      "metadata": {
        "id": "U_4E3aJOaXAI",
        "colab_type": "text"
      },
      "source": [
        "Otra funcionalidad muy importante de los Jupyter Notebook es su integración con el lenguaje HTML, usado en el desarrollo de documentos de hipertexto para páginas web. Si bien *Markdown* admite HTML, en *Colab* a veces es necesario emplear celdas de código mediante la etiqueta `%%html`. En la mayoría de los casos, *Markdown* es suficiente para la disposición de la mayoría de los recursos audiovisuales, como imágenes o tablas."
      ]
    },
    {
      "cell_type": "code",
      "metadata": {
        "id": "kb6H3Jz9sKp9",
        "colab_type": "code",
        "colab": {}
      },
      "source": [
        "%%html\n",
        "<marquee direction = \"left\" scrollamount=\"20\" onmouseover=\"stop()\" onmouseout=\"start()\">\n",
        "    <h1 style=\"color: #ff9900; text-align: center\"> Esta es una introducción a los Jupyter Notebook con Google Colaboratory</h1>\n",
        "    <h2 style=\"color: #ff9900; text-align: center\"> Programa de formación en Machine Learning and Data Science</h2>\n",
        "    <h2 style=\"color: #ff9900; text-align: center\"> Universidad Nacional de Colombia</h2>\n",
        "    <img style = \"display: block; margin-left: auto; margin-right: auto;\" src='https://colab.research.google.com/img/colab_favicon.ico' width='200' height='200'/>\n",
        "</marquee>"
      ],
      "execution_count": null,
      "outputs": []
    },
    {
      "cell_type": "markdown",
      "metadata": {
        "colab_type": "text",
        "id": "YtUpWBRyiaPG"
      },
      "source": [
        "## **2. Celdas de Código**\n",
        "\n",
        "El otro tipo de celda permitida en los *Notebooks* es la **celda de código**. \n",
        "\n",
        "Estas celdas permiten escribir código fuente en el lenguaje de programación que soporte el kernel empleado. En la esquina superior derecha se indicará que el entorno de ejecución está conectado, o en su defecto le dará la opción para concetarse (haciendo clic en \"Conectar\"). Este material, y el resto de los materiales presentados en los dos primeros módulos, está diseñado para ser ejecutado en el lenguaje de programación ***Python* 3.6 o superior**.\n",
        "\n",
        "Los *notebooks* ofrecen una gran flexibilidad de interacción, al permitir acciones como la carga y descarga de archivos, el uso de entrada del teclado y la presentación de contenido multimedia como texto, imágenes y videos. Usted puede ejecutar el código de una celda con el botón de *play* (al costado izquierdo de la celda en Colab), el botón *Run* (En la barra de herramientas en Jupyter) o mediante la combinación de teclas **Shift+Enter**."
      ]
    },
    {
      "cell_type": "code",
      "metadata": {
        "colab_type": "code",
        "id": "ypn_RbnYT_a_",
        "colab": {}
      },
      "source": [
        "!python --version"
      ],
      "execution_count": null,
      "outputs": []
    },
    {
      "cell_type": "code",
      "metadata": {
        "colab_type": "code",
        "id": "Ub3SAS4BhJmv",
        "colab": {}
      },
      "source": [
        "#Definicion variable\n",
        "a = 4"
      ],
      "execution_count": null,
      "outputs": []
    },
    {
      "cell_type": "code",
      "metadata": {
        "id": "KkBqvJp-ZYMG",
        "colab_type": "code",
        "colab": {}
      },
      "source": [
        "print(a)"
      ],
      "execution_count": null,
      "outputs": []
    },
    {
      "cell_type": "markdown",
      "metadata": {
        "id": "kNmxWCnDhKzu",
        "colab_type": "text"
      },
      "source": [
        "Se puede poner un programa completo, como este:"
      ]
    },
    {
      "cell_type": "code",
      "metadata": {
        "colab_type": "code",
        "id": "KTYavQqDBEMP",
        "colab": {}
      },
      "source": [
        "x = 1\n",
        "nombre = input('Por favor, ingrese su nombre.\\n')\n",
        "print(f'¡Hola {nombre}!\\nLe damos la bienvenida al programa de formación en Machine Learning y Data Science.')\n",
        "\n",
        "total = 0\n",
        "conjunto = set()\n",
        "while(total < 5):\n",
        "    fruta = input(f'Ingrese el nombre de una fruta. {5 - total} restantes.\\n')\n",
        "    conjunto.add(fruta)\n",
        "    \n",
        "    total = len(conjunto)\n",
        "    \n",
        "    print(f'Ha ingresado {total} {\"fruta\" if total == 1 else \"frutas\"} distintas.')    \n",
        "\n",
        "frutas = list(conjunto)\n",
        "frutas.sort()\n",
        "print('Estas son las frutas que ingresó ordenadas alfabéticamente.')\n",
        "\n",
        "for fruta in [f'\\t{i + 1}.\\t {frutas[i]}' for i in range(len(frutas))]:\n",
        "    print(fruta)\n"
      ],
      "execution_count": null,
      "outputs": []
    },
    {
      "cell_type": "markdown",
      "metadata": {
        "id": "XZhauEkGu1vD",
        "colab_type": "text"
      },
      "source": [
        "**Las variables declaradas se conservan entre celdas.**"
      ]
    },
    {
      "cell_type": "code",
      "metadata": {
        "id": "mVhGdTpruhvZ",
        "colab_type": "code",
        "colab": {}
      },
      "source": [
        "print(frutas)"
      ],
      "execution_count": null,
      "outputs": []
    },
    {
      "cell_type": "markdown",
      "metadata": {
        "id": "1hzwnqr3cLTC",
        "colab_type": "text"
      },
      "source": [
        "**Incluso, más adelante veremos que será posible hacer visualizaciones dentro de los *notebooks*. Por ejemplo:**"
      ]
    },
    {
      "cell_type": "code",
      "metadata": {
        "id": "cAcF0kyCcKVd",
        "colab_type": "code",
        "colab": {}
      },
      "source": [
        "import numpy as np\n",
        "from matplotlib import pyplot as plt\n",
        "\n",
        "y = 100 + np.random.randn(100)\n",
        "x = [x for x in range(len(y))]\n",
        "plt.plot(x, y, '-')\n",
        "plt.title(\"Ejemplo\")\n",
        "plt.show()"
      ],
      "execution_count": null,
      "outputs": []
    },
    {
      "cell_type": "markdown",
      "metadata": {
        "colab_type": "text",
        "id": "trjlka8hiqty"
      },
      "source": [
        " ## **3. Completado de Código y Ayuda**"
      ]
    },
    {
      "cell_type": "markdown",
      "metadata": {
        "colab_type": "text",
        "id": "d4L9TOP9QSHn"
      },
      "source": [
        "Los Jupyter Notebook cuentan con una herramienta de auto-completado, posible presionando la combinación de teclas **Ctrl + Espacio**.\n",
        "\n",
        "Por ejemplo importemos el módulo [NumPy](https://numpy.org/) (se discutirá en detalle en los demás materiales de la primera UNIDAD) con el alias de **np**."
      ]
    },
    {
      "cell_type": "code",
      "metadata": {
        "cellView": "both",
        "colab_type": "code",
        "id": "Q0JKWcmtQSHp",
        "colab": {}
      },
      "source": [
        "import numpy as np"
      ],
      "execution_count": null,
      "outputs": []
    },
    {
      "cell_type": "markdown",
      "metadata": {
        "colab_type": "text",
        "id": "1M890-bXeyYp"
      },
      "source": [
        "Luego, escriba ``np.random.`` (Si está desde *Colab* presione la secuencia **Ctrl + Espacio**. Si está desde *Jupyter* presione **Tab**.). Debería ver las opciones posibles de auto-completado para ``np.random``."
      ]
    },
    {
      "cell_type": "code",
      "metadata": {
        "colab_type": "code",
        "id": "u0pktbDc3ADe",
        "colab": {}
      },
      "source": [
        "np.random."
      ],
      "execution_count": null,
      "outputs": []
    },
    {
      "cell_type": "markdown",
      "metadata": {
        "colab_type": "text",
        "id": "9ReRLQaxJ-zP"
      },
      "source": [
        "Para abrir la documentación completa de un módulo sólo debe presionar  **Shift+Enter** sobre una celda de código con el nombre del paquete a explorar seguido de  **?**. "
      ]
    },
    {
      "cell_type": "code",
      "metadata": {
        "cellView": "both",
        "colab_type": "code",
        "id": "YgQ6Tu7DK17l",
        "colab": {}
      },
      "source": [
        "np.random.randint?"
      ],
      "execution_count": null,
      "outputs": []
    },
    {
      "cell_type": "markdown",
      "metadata": {
        "colab_type": "text",
        "id": "ZAP9OG_Talnw"
      },
      "source": [
        "### **Instalar otra biblioteca**\n",
        "\n",
        "El entorno de ejecución de Jupyter permite ejecutar comandos del sistema operativo mediante el símbolo **!**. Por ejemplo, para instalar módulos o librerías específicas de Python se utiliza el comando `pip`. La secuencia de comandos `pip install` permite específicar el módulo que se desea instalar.\n",
        "\n",
        "En Google Colab, el entorno de ejecución está construido encima de una máquina virtual del sistema operativo *Ubuntu*. Al trabajar en local desde otro sistema operativo como *Windows*, los comandos son distintos y algunos puntos de este tutorial podrían no funcionar."
      ]
    },
    {
      "cell_type": "code",
      "metadata": {
        "colab_type": "code",
        "id": "5mlqQmFDa0KX",
        "colab": {}
      },
      "source": [
        "!pip install leaflet"
      ],
      "execution_count": null,
      "outputs": []
    },
    {
      "cell_type": "markdown",
      "metadata": {
        "id": "5-gchR3teD4W",
        "colab_type": "text"
      },
      "source": [
        "Por ahora no utilizaremos la librería que acabamos de instalar. No obstante, esta funcionalidad será muy importante más adelante en el curso. "
      ]
    },
    {
      "cell_type": "markdown",
      "metadata": {
        "colab_type": "text",
        "id": "1p-jIdPca3g_"
      },
      "source": [
        "## **4.  Cargar archivos a Google Colab**\n",
        "\n",
        "Al trabajar con Google Colab, una de las primeras preguntas que se hacen es el manejo de archivos con el entorno en la nube. Se consideran dos opciones para la carga de archivos desde un equipo local.\n",
        " \n",
        "\n",
        "**Atención: Los comandos discutidos a continuación son exclusivos para la plataforma Colab. Si se está trabajando con otras herramientas el manejo de archivos se realiza organizando las carpetas en las que está alojado el archivo .ipynb del notebook.**\n"
      ]
    },
    {
      "cell_type": "markdown",
      "metadata": {
        "id": "Bk1cBRNkssvr",
        "colab_type": "text"
      },
      "source": [
        "### **1. Cargar archivos locales**\n",
        "Al estar en la nube, suele ser necesario subir archivos desde una máquina local para su carga y exploración. \n",
        "\n",
        "Para esto deberá hacer clic en la parte derecha del notebook donde aparece el icono de \"Archivos\" y luego podrá hacer clic sobre el icono \"Subir\" para seleccionar los archivos que desea cargar.\n",
        "\n",
        "Otra forma de conseguirlo, será mediante programación, como se muesta a continuación:\n",
        "\n",
        "**Atención: Los archivos que se carguen o generen solo lo harán temporalmente. Cuando la instancia de ejecución termine (cuando se desconecte el notebook), estos se borrarán. Para evitar esto se recomienda trabajar con archivos en la nube, como con Google Drive.**"
      ]
    },
    {
      "cell_type": "code",
      "metadata": {
        "colab_type": "code",
        "id": "dJSxD8E1cDLo",
        "colab": {}
      },
      "source": [
        "from google.colab import files\n",
        "\n",
        "uploaded = files.upload()\n",
        "\n",
        "for fn in uploaded.keys():\n",
        "    print('User uploaded file \"{name}\" with length {length} bytes'.format(\n",
        "      name=fn, length=len(uploaded[fn])))"
      ],
      "execution_count": null,
      "outputs": []
    },
    {
      "cell_type": "markdown",
      "metadata": {
        "id": "g2q_oxMCfTWs",
        "colab_type": "text"
      },
      "source": [
        "Para ver la lista de archivos que tiene en el directorio actual:"
      ]
    },
    {
      "cell_type": "code",
      "metadata": {
        "colab_type": "code",
        "id": "kdydb7nZUUyy",
        "colab": {}
      },
      "source": [
        "# El comando ls da una lista de los archivos en un directorio.\n",
        "!ls"
      ],
      "execution_count": null,
      "outputs": []
    },
    {
      "cell_type": "markdown",
      "metadata": {
        "colab_type": "text",
        "id": "iLS4mmnncwbL"
      },
      "source": [
        "### **2. Desde Google Drive**\n",
        "\n",
        "\n",
        "Google Colab tiene interacciones con otras herramientas de Google. En particular, se puede vincular una unidad de [Google Drive](https://www.google.com/drive/) para el acceso a archivos alojados en la nube en la ejecución del Notebook.\n",
        "\n",
        "Al ejecutar la celda aparecerá una URL de autenticación de la cuenta de Google. Una vez en la URL, acepte los permisos de uso de Google Drive y copie el token de autenticación generado. Péguelo en la celda de código. La unidad de Google Drive quedará montada como un directorio más del sistema de archivos."
      ]
    },
    {
      "cell_type": "code",
      "metadata": {
        "colab_type": "code",
        "id": "9dqAk3cLc1xx",
        "colab": {}
      },
      "source": [
        "from google.colab import drive\n",
        "drive.mount('/gdrive')"
      ],
      "execution_count": null,
      "outputs": []
    },
    {
      "cell_type": "code",
      "metadata": {
        "id": "qy8Sq1x-G5y6",
        "colab_type": "code",
        "colab": {}
      },
      "source": [
        "!ls \"/gdrive/My Drive/\""
      ],
      "execution_count": null,
      "outputs": []
    },
    {
      "cell_type": "markdown",
      "metadata": {
        "id": "sKPDUCvnUDxq",
        "colab_type": "text"
      },
      "source": [
        "De forma nativa jupyter tiene integración con comandos de bash. Estos son reconocidos mediante el prefijo <span style=\"border: solid 1px #aaa; padding: 2px; border-radius: 4px;\">!</span>. Por ejemplo, si quisiera ver qué versión de *Python* estoy ejecutando:"
      ]
    },
    {
      "cell_type": "code",
      "metadata": {
        "colab_type": "code",
        "id": "9uu4MDZWhn5L",
        "colab": {}
      },
      "source": [
        "archivos = !ls"
      ],
      "execution_count": null,
      "outputs": []
    },
    {
      "cell_type": "code",
      "metadata": {
        "id": "qI_lwPE3UXId",
        "colab_type": "code",
        "colab": {}
      },
      "source": [
        "print(archivos)"
      ],
      "execution_count": null,
      "outputs": []
    },
    {
      "cell_type": "markdown",
      "metadata": {
        "id": "4r5hSQAz6d-g",
        "colab_type": "text"
      },
      "source": [
        "## **5. Recursos adicionales**\n",
        "\n",
        "* [Introducción a *Google Colaboratory* (notebooks)](https://colab.research.google.com/notebooks/intro.ipynb)\n",
        "* [Guía de Markdown](https://colab.research.google.com/notebooks/markdown_guide.ipynb)\n",
        "* [*Python* 3: documentación oficial.](https://docs.python.org/3/)"
      ]
    },
    {
      "cell_type": "markdown",
      "metadata": {
        "id": "uJLF2Soq64YL",
        "colab_type": "text"
      },
      "source": [
        "## **Créditos**\n",
        "\n",
        "* **Profesor:** [Felipe Restrepo Calle](https://dis.unal.edu.co/~ferestrepoca/)\n",
        "* **Asistentes docentes:**\n",
        "  - Alberto Nicolai Romero Martínez\n",
        "  - Miguel Angel Ortiz Marín\n",
        "\n",
        "**Universidad Nacional de Colombia** - *Facultad de Ingeniería*"
      ]
    }
  ]
}